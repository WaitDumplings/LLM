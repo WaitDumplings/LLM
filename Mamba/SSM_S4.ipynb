{
 "cells": [
  {
   "cell_type": "markdown",
   "id": "6ab96d79",
   "metadata": {},
   "source": [
    "# S4 code pipleline"
   ]
  },
  {
   "cell_type": "markdown",
   "id": "e47d7ef9",
   "metadata": {},
   "source": [
    "## 1. SSM in Convolutional Representation\n",
    "本阶段主要是证明对于一个SSM模型来说，在使用卷积形式得到的结果和RNN Representation得到的结果一致"
   ]
  },
  {
   "cell_type": "markdown",
   "id": "a860b9d5",
   "metadata": {},
   "source": [
    "### 1. 定义连续SSM与离散化后的SSM的参数"
   ]
  },
  {
   "cell_type": "code",
   "execution_count": 1,
   "id": "06eb9a21",
   "metadata": {},
   "outputs": [],
   "source": [
    "import numpy as np\n",
    "np.random.seed(1)\n",
    "\n",
    "# Continuous SSM\n",
    "def Random_SSM(N):\n",
    "    # A: (N, N)\n",
    "    # B: (N, 1)\n",
    "    # C: (1, N)\n",
    "    \n",
    "    A = np.random.rand(N, N)\n",
    "    B = np.random.rand(N, 1)\n",
    "    C = np.random.rand(1, N)\n",
    "    return A, B, C\n",
    "\n",
    "# Discrete SSM\n",
    "def discretize(A, B, C, step):\n",
    "    # A_bar = (I - step/2 * A)^(-1) * (I + step/2 * A)\n",
    "    # B_bar = (I - step/2 * A)^(-1) * B * step\n",
    "    \n",
    "    I = np.eye(A.shape[0])\n",
    "    BL = np.linalg.inv(I - (step / 2.0) * A)\n",
    "    Ab = BL @ (I + (step / 2.0) * A)\n",
    "    Bb = (BL * step) @ B\n",
    "    return Ab, Bb, C"
   ]
  },
  {
   "cell_type": "markdown",
   "id": "7f93bced",
   "metadata": {},
   "source": [
    "### 2. SSM RNN Representation"
   ]
  },
  {
   "cell_type": "code",
   "execution_count": 2,
   "id": "9b02a04d",
   "metadata": {},
   "outputs": [],
   "source": [
    "def scan_SSM(Ab, Bb, Cb, u, x0): \n",
    "    # x = A_bar * x + B_bar * u\n",
    "    # y = C_bar * x\n",
    "    \n",
    "    x0 = Ab @ x0 + Bb * u\n",
    "    y  = Cb @ x0\n",
    "    return x0, y\n",
    "\n",
    "# Demo: Run SSM\n",
    "def run_SSM(A, B, C, u):\n",
    "    L = u.shape[0]\n",
    "    N = A.shape[0]\n",
    "    Ab, Bb, Cb = discretize(A, B, C, step=1.0 / L)\n",
    "    x0 = np.zeros((N, 1))\n",
    "    \n",
    "    # Run recurrence\n",
    "    for i in range(L):\n",
    "        x0, y = scan_SSM(Ab, Bb, Cb, u[i], x0)\n",
    "    return y"
   ]
  },
  {
   "cell_type": "markdown",
   "id": "9b29b844",
   "metadata": {},
   "source": [
    "### 3. utils"
   ]
  },
  {
   "cell_type": "code",
   "execution_count": 3,
   "id": "94a4070c",
   "metadata": {},
   "outputs": [],
   "source": [
    "# Mat Power\n",
    "def matmul_n_times(A, n_times):\n",
    "    raw_data = A\n",
    "    if n_times > 0:\n",
    "        for i in range(n_times - 1):\n",
    "            A = np.matmul(A, raw_data)\n",
    "    elif n_times == 0:\n",
    "        A = np.eye(A.shape[0])\n",
    "    return A\n",
    "\n",
    "# Get Conv Kernel\n",
    "def K_conv(Ab, Bb, Cb, L):\n",
    "    # K = [C_bar * A_bar^(i) * B_bar for i in range(L)]\n",
    "    return np.array([(Cb @ matmul_n_times(Ab, i) @ Bb) for i in range(L)]).squeeze()\n",
    "\n",
    "# Convolution\n",
    "def causal_convolution(u, K, nofft=False):\n",
    "    if nofft:\n",
    "        # 不使用FFT\n",
    "        return np.dot(K[::-1], np.transpose(u))\n",
    "    else:\n",
    "        # 使用FFT\n",
    "        assert K.shape[0] == u.shape[0]\n",
    "        ud = np.fft.rfft(np.pad(u, (0, K.shape[0])))\n",
    "        Kd = np.fft.rfft(np.pad(K, (0, u.shape[0])))\n",
    "        out = ud * Kd\n",
    "        return np.fft.irfft(out)[u.shape[0] - 1]"
   ]
  },
  {
   "cell_type": "code",
   "execution_count": 5,
   "id": "c1184dec",
   "metadata": {},
   "outputs": [
    {
     "name": "stdout",
     "output_type": "stream",
     "text": [
      "Origin Version Kernel is: [0.13734084 0.16658424 0.20268662 0.24721982]\n"
     ]
    }
   ],
   "source": [
    "# # Demo in this stage\n",
    "# L = 4\n",
    "# step = 1.0 / L\n",
    "# A, B, C = Random_SSM(3)\n",
    "# Ab, Bb, Cb = discretize(A, B, C, step)\n",
    "# Origin_Kernel = K_conv(Ab, Bb, Cb, L)\n",
    "# print(\"Origin Version Kernel is: {}\".format(Origin_Kernel))"
   ]
  },
  {
   "cell_type": "code",
   "execution_count": 6,
   "id": "3255cde6",
   "metadata": {},
   "outputs": [
    {
     "name": "stdout",
     "output_type": "stream",
     "text": [
      "\n",
      "RNN result is: -2.9878612423736812\n",
      "CNN(w\\o FFT) result is: -2.9878612423736812\n",
      "CNN(w\\ FFT) result is: -2.987861242373682\n",
      "RNN presentation and CNN(w\\ FFT) presentation has the same output : True\n"
     ]
    }
   ],
   "source": [
    "def test_cnn_is_rnn(N=3, L=5, step=1.0 / 5):\n",
    "    \n",
    "    ssm = Random_SSM(N)\n",
    "    u = np.array([-1,-2,-3,-4,-5])\n",
    "    \n",
    "    # RNN Results\n",
    "    rec = run_SSM(*ssm, u)\n",
    "\n",
    "    # CNN Results\n",
    "    ssmb = discretize(*ssm, step=step)\n",
    "    # Get Conv Kernel K\n",
    "    K = K_conv(*ssmb, L)\n",
    "    # Calculate K * u\n",
    "    conv = causal_convolution(u, K, True)  \n",
    "    conv2 = causal_convolution(u, K, False)\n",
    "    \n",
    "    # Check results\n",
    "    print()\n",
    "    print(\"RNN result is:\", rec.ravel()[0])\n",
    "    print(\"CNN(w\\o FFT) result is:\", conv.ravel()[0])\n",
    "    print(\"CNN(w\\ FFT) result is:\", conv2.ravel()[0])\n",
    "\n",
    "    return (np.abs((rec.ravel()[0] - conv2.ravel()[0])) < 1e-6)\n",
    "\n",
    "print(\"RNN presentation and CNN(w\\ FFT) presentation has the same output :\", test_cnn_is_rnn())"
   ]
  },
  {
   "cell_type": "markdown",
   "id": "f61216f1",
   "metadata": {},
   "source": [
    "## 2. S4 Improvments"
   ]
  },
  {
   "cell_type": "code",
   "execution_count": 7,
   "id": "b5433802",
   "metadata": {},
   "outputs": [],
   "source": [
    "# Define Hippo Matrix\n",
    "def make_HiPPO(N):\n",
    "    P = np.sqrt(1 + 2 * np.arange(N))\n",
    "    A = P[:, np.newaxis] * P[np.newaxis, :]  \n",
    "    A = np.tril(A) - np.diag(np.arange(N))\n",
    "    return -A"
   ]
  },
  {
   "cell_type": "code",
   "execution_count": 17,
   "id": "ecd74371",
   "metadata": {},
   "outputs": [],
   "source": [
    "# function K*z naive method\n",
    "def K_gen_simple(Ab, Bb, Cb, L):\n",
    "    K = K_conv(Ab, Bb, Cb, L)\n",
    "\n",
    "    def gen(z):\n",
    "        return np.sum(K * (z ** np.arange(L)))\n",
    "\n",
    "    return gen\n",
    "\n",
    "# function K*z (generation function method)\n",
    "def K_gen_inverse(Ab, Bb, Cb, L):\n",
    "    I = np.eye(Ab.shape[0])\n",
    "    Ab_L = matmul_n_times(Ab, L)\n",
    "    # C 波浪 = C_bar * (I - A_bar^(L))\n",
    "    Ct = Cb @ (I - Ab_L)\n",
    "\n",
    "    return lambda z: (Ct @ np.linalg.inv(I - Ab * z) @ Bb)\n",
    "\n",
    "def conv_from_gen(gen, L):\n",
    "    # 创建长度为 L 的单位根\n",
    "    Omega_L = np.exp((-2j * np.pi) * (np.arange(L) / L))\n",
    "    \n",
    "    # 在单位根上计算生成函数的值\n",
    "    # M^(*) * Y = X\n",
    "    atRoots = np.vectorize(gen)(Omega_L)\n",
    "\n",
    "    # 计算逆 FFT 并求得系数\n",
    "    out = np.fft.ifft(atRoots, L)\n",
    "    # 返回实部，忽略虚部误差\n",
    "    return out.real\n",
    "\n",
    "def test_gen_inverse(L=16, N=4):\n",
    "    ssm = Random_SSM(N)\n",
    "    ssm = discretize(*ssm, 1.0 / L)\n",
    "    Kernel = K_conv(*ssm, L=L)\n",
    "    \n",
    "    Kernel_new = conv_from_gen(K_gen_inverse(*ssm, L=L), L)\n",
    "    print(Kernel)\n",
    "    print(Kernel_new)\n",
    "    return np.allclose(Kernel, Kernel_new, atol=1e-3)"
   ]
  },
  {
   "cell_type": "code",
   "execution_count": 18,
   "id": "eb62cbb3",
   "metadata": {},
   "outputs": [
    {
     "name": "stdout",
     "output_type": "stream",
     "text": [
      "[0.0057784  0.00720001 0.00885825 0.01079064 0.01304066 0.01565868\n",
      " 0.01870304 0.02224131 0.02635178 0.03112513 0.03666643 0.04309739\n",
      " 0.05055902 0.05921468 0.06925366 0.08089523]\n",
      "[0.0057784  0.00720001 0.00885825 0.01079064 0.01304066 0.01565868\n",
      " 0.01870304 0.02224131 0.02635178 0.03112513 0.03666643 0.04309739\n",
      " 0.05055902 0.05921468 0.06925366 0.08089523]\n"
     ]
    },
    {
     "data": {
      "text/plain": [
       "True"
      ]
     },
     "execution_count": 18,
     "metadata": {},
     "output_type": "execute_result"
    }
   ],
   "source": [
    "test_gen_inverse()"
   ]
  },
  {
   "cell_type": "code",
   "execution_count": 10,
   "id": "e5339541",
   "metadata": {},
   "outputs": [],
   "source": [
    "def make_NPLR_HiPPO(N):\n",
    "    # Make -HiPPO\n",
    "    nhippo = make_HiPPO(N)\n",
    "\n",
    "    # Add in a rank 1 term. Makes it Normal.\n",
    "    P = np.sqrt(np.arange(N) + 0.5)\n",
    "\n",
    "    # HiPPO also specifies the B matrix (LegS, A, B)\n",
    "    B = np.sqrt(2 * np.arange(N) + 1.0)\n",
    "    return nhippo, P, B"
   ]
  },
  {
   "cell_type": "code",
   "execution_count": 11,
   "id": "32461baa",
   "metadata": {},
   "outputs": [
    {
     "data": {
      "text/plain": [
       "(array([[-1.        , -0.        , -0.        ],\n",
       "        [-1.73205081, -2.        , -0.        ],\n",
       "        [-2.23606798, -3.87298335, -3.        ]]),\n",
       " array([0.70710678, 1.22474487, 1.58113883]),\n",
       " array([1.        , 1.73205081, 2.23606798]))"
      ]
     },
     "execution_count": 11,
     "metadata": {},
     "output_type": "execute_result"
    }
   ],
   "source": [
    "make_NPLR_HiPPO(3)"
   ]
  },
  {
   "cell_type": "code",
   "execution_count": 21,
   "id": "e1066d0d",
   "metadata": {},
   "outputs": [],
   "source": [
    "def make_DPLR_HiPPO(N):\n",
    "    \"\"\"Diagonalize NPLR representation\"\"\"\n",
    "    A, P, B = make_NPLR_HiPPO(N)\n",
    "\n",
    "    S = A + P[:, np.newaxis] * P[np.newaxis, :]\n",
    "\n",
    "    # Check skew symmetry\n",
    "    S_diag = np.diagonal(S)\n",
    "    Lambda_real = np.mean(S_diag) * np.ones_like(S_diag)\n",
    "    Eye_Lambda_real = np.diag(Lambda_real)\n",
    "\n",
    "#     print(S - Eye_Lambda_real)\n",
    "#     print()\n",
    "#     print((-1)*(S-Eye_Lambda_real).conj().T)\n",
    "\n",
    "    print(\"S w\\out diag is a skew-symmetry matrix: {}\".format(np.allclose((S-Eye_Lambda_real), (-1)*(S-Eye_Lambda_real).conj().T, atol=1e-3)))\n",
    "\n",
    "    # Diagonalize S to V \\Lambda V^*\n",
    "    # (1) S = skew + Diag(real)\n",
    "    # (2) eigs for Skew should be 0 or imaginary number\n",
    "    # (3) eigs for Diag(real) should be real number\n",
    "    # (4) eigs for S: real + img; real comes from Diag part, eigs comes from skew part\n",
    "    \n",
    "    # eigh: Hermitian Matrix\n",
    "    Lambda_imag, V = np.linalg.eigh(S)\n",
    "    P = V.conj().T @ P\n",
    "    B = V.conj().T @ B\n",
    "    return Lambda_real + 1j * Lambda_imag, P, B, V"
   ]
  },
  {
   "cell_type": "code",
   "execution_count": 22,
   "id": "d88ff402",
   "metadata": {},
   "outputs": [
    {
     "name": "stdout",
     "output_type": "stream",
     "text": [
      "S w\\out diag is a skew-symmetry matrix: True\n"
     ]
    },
    {
     "data": {
      "text/plain": [
       "(array([-0.5-3.17436055j, -0.5+0.21601465j, -0.5+1.4583459j ]),\n",
       " array([-2.08934509, -0.26782347,  0.25081405]),\n",
       " array([-2.95478016, -0.37875958,  0.35470464]),\n",
       " array([[-0.46541345,  0.87669884, -0.12161197],\n",
       "        [-0.61300759, -0.41839483, -0.67019957],\n",
       "        [-0.63844501, -0.23737083,  0.73214962]]))"
      ]
     },
     "execution_count": 22,
     "metadata": {},
     "output_type": "execute_result"
    }
   ],
   "source": [
    "make_DPLR_HiPPO(3)"
   ]
  },
  {
   "cell_type": "markdown",
   "id": "72da9f64",
   "metadata": {},
   "source": [
    "### follow the pipeline to get k matrix"
   ]
  },
  {
   "cell_type": "code",
   "execution_count": 14,
   "id": "0f9cf48b",
   "metadata": {},
   "outputs": [],
   "source": [
    "def cauchy(v, omega, lambd):\n",
    "    \"\"\"Cauchy matrix multiplication: (n), (l), (n) -> (l)\"\"\"\n",
    "    cauchy_dot = lambda _omega: (v / (_omega - lambd)).sum()\n",
    "    return np.vectorize(cauchy_dot)(omega)\n",
    "\n",
    "# [1, 2, 3]\n",
    "# [4, 5, 6]\n",
    "# [4, 10, 18] sum\n",
    "# [4, 10, 18]\n",
    "def kernel_DPLR(Lambda, P, Q, B, C, step, L):\n",
    "    # Evaluate at roots of unity\n",
    "    # Generating function is (-)z-transform, so we evaluate at (-)root\n",
    "    Omega_L = np.exp((-2j * np.pi) * (np.arange(L) / L))\n",
    "\n",
    "    aterm = (C.conj(), Q.conj())\n",
    "    bterm = (B, P)\n",
    "\n",
    "    g = (2.0 / step) * ((1.0 - Omega_L) / (1.0 + Omega_L))\n",
    "    c = 2.0 / (1.0 + Omega_L)\n",
    "\n",
    "    # Reduction to core Cauchy kernel\n",
    "    k00 = cauchy(aterm[0] * bterm[0], g, Lambda)\n",
    "    k01 = cauchy(aterm[0] * bterm[1], g, Lambda)\n",
    "    k10 = cauchy(aterm[1] * bterm[0], g, Lambda)\n",
    "    k11 = cauchy(aterm[1] * bterm[1], g, Lambda)\n",
    "    atRoots = c * (k00 - k01 * (1.0 / (1.0 + k11)) * k10)\n",
    "    out = np.fft.ifft(atRoots, L).reshape(L)\n",
    "    return out.real"
   ]
  },
  {
   "cell_type": "code",
   "execution_count": 24,
   "id": "f9d513d4",
   "metadata": {},
   "outputs": [
    {
     "name": "stdout",
     "output_type": "stream",
     "text": [
      "S w\\out diag is a skew-symmetry matrix: True\n",
      "[ 0.0434862 -0.00966923j  0.02054288-0.02152032j  0.00523044-0.02266117j\n",
      " -0.00344699-0.01969137j -0.00752933-0.01600404j -0.00890294-0.01299339j\n",
      " -0.00891709-0.01099022j -0.00838588-0.00986299j -0.00772568-0.00934778j\n",
      " -0.00710559-0.0091985j  -0.00656401-0.00923537j -0.00608363-0.00934525j\n",
      " -0.00563252-0.00946493j -0.00518281-0.0095627j  -0.00471653-0.00962414j\n",
      " -0.00422552-0.00964291j]\n",
      "[ 0.0434862   0.02054288  0.00523044 -0.00344699 -0.00752933 -0.00890294\n",
      " -0.00891709 -0.00838588 -0.00772568 -0.00710559 -0.00656401 -0.00608363\n",
      " -0.00563252 -0.00518281 -0.00471653 -0.00422552]\n"
     ]
    },
    {
     "data": {
      "text/plain": [
       "True"
      ]
     },
     "execution_count": 24,
     "metadata": {},
     "output_type": "execute_result"
    }
   ],
   "source": [
    "def test_gen_dplr(L=16, N=4):\n",
    "    I = np.eye(N)\n",
    "\n",
    "    # Create a DPLR A matrix and discretize\n",
    "    Lambda, P, B, _ = make_DPLR_HiPPO(N)\n",
    "    A = np.diag(Lambda) - P[:, np.newaxis] @ P[:, np.newaxis].conj().T\n",
    "    _, _, C = Random_SSM(N)\n",
    "\n",
    "    Ab, Bb, Cb = discretize(A, B, C, 1.0 / L)\n",
    "    # Naive Method to get Kernel\n",
    "    a = K_conv(Ab, Bb, Cb.conj(), L=L)\n",
    "\n",
    "    # Compare to the DPLR generating function approach.\n",
    "    C_t = (I - matmul_n_times(Ab, L)).conj().T @ Cb.ravel()\n",
    "    b = kernel_DPLR(Lambda, P, P, B, C_t, step=1.0 / L, L=L)\n",
    "    print(a)\n",
    "    print(b)\n",
    "    return np.allclose(a.real, b.real)\n",
    "test_gen_dplr()"
   ]
  },
  {
   "cell_type": "code",
   "execution_count": null,
   "id": "49fc242b",
   "metadata": {},
   "outputs": [],
   "source": [
    "# A(Lambda_real, Lambda_img), B*V, C, step (SSM:(V^-1 * A * V, B * V, C))"
   ]
  }
 ],
 "metadata": {
  "kernelspec": {
   "display_name": "Python 3 (ipykernel)",
   "language": "python",
   "name": "python3"
  },
  "language_info": {
   "codemirror_mode": {
    "name": "ipython",
    "version": 3
   },
   "file_extension": ".py",
   "mimetype": "text/x-python",
   "name": "python",
   "nbconvert_exporter": "python",
   "pygments_lexer": "ipython3",
   "version": "3.11.4"
  }
 },
 "nbformat": 4,
 "nbformat_minor": 5
}
